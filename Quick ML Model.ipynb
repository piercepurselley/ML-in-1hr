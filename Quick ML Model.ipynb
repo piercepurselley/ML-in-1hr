{
 "cells": [
  {
   "cell_type": "markdown",
   "metadata": {},
   "source": [
    "# ML Model in 1hr"
   ]
  },
  {
   "cell_type": "markdown",
   "metadata": {},
   "source": [
    "This script will build a ML model in 1hr.  Much of the data munging and feature engineering will be left out of this model.  This is a practice script for the steps of ML modeling."
   ]
  },
  {
   "cell_type": "markdown",
   "metadata": {},
   "source": [
    "## - Data Set-up"
   ]
  },
  {
   "cell_type": "markdown",
   "metadata": {},
   "source": [
    " Importing libraries. Read test and train data. Append both."
   ]
  },
  {
   "cell_type": "code",
   "execution_count": 1,
   "metadata": {},
   "outputs": [],
   "source": [
    "import pandas as pd\n",
    "import numpy as np\n",
    "import random\n",
    "import matplotlib.pyplot as plt\n",
    "from sklearn.preprocessing import LabelEncoder\n",
    "from sklearn.ensemble import RandomForestClassifier\n",
    "from sklearn.ensemble import GradientBoostingClassifier"
   ]
  },
  {
   "cell_type": "code",
   "execution_count": 2,
   "metadata": {},
   "outputs": [],
   "source": [
    "train_data = pd.read_csv('Train.csv')\n",
    "test_data = pd.read_csv('Test.csv')"
   ]
  },
  {
   "cell_type": "code",
   "execution_count": 3,
   "metadata": {},
   "outputs": [],
   "source": [
    "#Flag for Train and Test Data set\n",
    "train_data['Type']='Train' \n",
    "test_data['Type']='Test'"
   ]
  },
  {
   "cell_type": "code",
   "execution_count": 4,
   "metadata": {},
   "outputs": [],
   "source": [
    "#Combined 'Train' and 'Test' Data.\n",
    "full_data = pd.concat([train_data,test_data],axis=0,sort=True) "
   ]
  },
  {
   "cell_type": "markdown",
   "metadata": {},
   "source": [
    "## - Descriptive Analysis / Data Exploration:"
   ]
  },
  {
   "cell_type": "markdown",
   "metadata": {},
   "source": [
    "###### Sample of Methods"
   ]
  },
  {
   "cell_type": "code",
   "execution_count": 5,
   "metadata": {},
   "outputs": [
    {
     "data": {
      "text/plain": [
       "'\\nfull_data.head()\\nfull_data.shape\\nfull_data.columns\\nfull_data.describe()\\nfull_data.dtypes\\n'"
      ]
     },
     "execution_count": 5,
     "metadata": {},
     "output_type": "execute_result"
    }
   ],
   "source": [
    "\"\"\"\n",
    "full_data.head()\n",
    "full_data.shape\n",
    "full_data.columns\n",
    "full_data.describe()\n",
    "full_data.dtypes\n",
    "\"\"\""
   ]
  },
  {
   "cell_type": "code",
   "execution_count": 6,
   "metadata": {},
   "outputs": [
    {
     "data": {
      "text/plain": [
       "Index(['Age', 'Education', 'Hours.Per.Week', 'ID', 'Income.Group',\n",
       "       'Marital.Status', 'Native.Country', 'Occupation', 'Race',\n",
       "       'Relationship', 'Sex', 'Type', 'Workclass'],\n",
       "      dtype='object')"
      ]
     },
     "execution_count": 6,
     "metadata": {},
     "output_type": "execute_result"
    }
   ],
   "source": [
    "full_data.columns"
   ]
  },
  {
   "cell_type": "code",
   "execution_count": 7,
   "metadata": {},
   "outputs": [
    {
     "data": {
      "text/plain": [
       "\"\\nplt.boxplot(full_data['Age'])\\nplt.ylabel('Age')\\nplt.title('Box Plot of Age')\\nplt.show()\\n\""
      ]
     },
     "execution_count": 7,
     "metadata": {},
     "output_type": "execute_result"
    }
   ],
   "source": [
    "#Box Plots\n",
    "\"\"\"\n",
    "plt.boxplot(full_data['Age'])\n",
    "plt.ylabel('Age')\n",
    "plt.title('Box Plot of Age')\n",
    "plt.show()\n",
    "\"\"\""
   ]
  },
  {
   "cell_type": "code",
   "execution_count": 8,
   "metadata": {},
   "outputs": [
    {
     "data": {
      "text/plain": [
       "\"\\nplt.hist(full_data['Age'],bins=8)\\nplt.xlabel('Age')\\nplt.ylabel('Frequency')\\nplt.title('Frequency of Age')\\nplt.show()\\n\""
      ]
     },
     "execution_count": 8,
     "metadata": {},
     "output_type": "execute_result"
    }
   ],
   "source": [
    "#Histograms\n",
    "\"\"\"\n",
    "plt.hist(full_data['Age'],bins=8)\n",
    "plt.xlabel('Age')\n",
    "plt.ylabel('Frequency')\n",
    "plt.title('Frequency of Age')\n",
    "plt.show()\n",
    "\"\"\""
   ]
  },
  {
   "cell_type": "code",
   "execution_count": 9,
   "metadata": {},
   "outputs": [],
   "source": [
    "#full_data.plot(kind='scatter',x='Age',y='Hours.Per.Week')\n",
    "#plt.show()"
   ]
  },
  {
   "cell_type": "markdown",
   "metadata": {},
   "source": [
    "###### Identify ID variables, Target variables, Categorical Variables, Numerical Variables, and Other"
   ]
  },
  {
   "cell_type": "code",
   "execution_count": 10,
   "metadata": {},
   "outputs": [],
   "source": [
    "ID_col = ['ID']\n",
    "target_col = [\"Hours.Per.Week\"]\n",
    "cat_cols = ['Education', 'Income.Group',\n",
    "       'Marital.Status', 'Native.Country', 'Occupation', 'Race',\n",
    "       'Relationship', 'Sex', 'Type', 'Workclass']\n",
    "num_cols= list(set(list(full_data.columns))-set(cat_cols)-set(ID_col)-set(target_col))"
   ]
  },
  {
   "cell_type": "code",
   "execution_count": 11,
   "metadata": {},
   "outputs": [],
   "source": [
    "#Test and Train Data identifier\n",
    "other_col=['Type'] "
   ]
  },
  {
   "cell_type": "markdown",
   "metadata": {},
   "source": [
    "##  - Data Treatment (Missing values treatment):"
   ]
  },
  {
   "cell_type": "code",
   "execution_count": 12,
   "metadata": {},
   "outputs": [],
   "source": [
    "#full_data.isnull().any()"
   ]
  },
  {
   "cell_type": "markdown",
   "metadata": {},
   "source": [
    "###### Sample of Methods"
   ]
  },
  {
   "cell_type": "code",
   "execution_count": 13,
   "metadata": {},
   "outputs": [
    {
     "data": {
      "text/plain": [
       "\"\\npd.isnull(full_data[‘Occupation’]) \\npd.notnull(full_data['Occupation'])\\npd.isnull(full_data['Occupation']).values.ravel().sum()\\npd.nottnull(full_data['Occupation']).values.ravel().sum()\\nfull_data.dropna(axis=0,how='all')\\nfull_data.dropna(axis=0,how='any')\\nfull_ata.fillna(0)\\nfull_data.fillna(‘missing’)\\nfull_data[‘Occupation’].fillna(0)\\ndata['body']\\ndata['age']\\ndata['age'].fillna(data['age'].mean())\\ndata['age'].fillna(method='ffill')\\ndata['age'].fillna(method='backfill')\\n\""
      ]
     },
     "execution_count": 13,
     "metadata": {},
     "output_type": "execute_result"
    }
   ],
   "source": [
    "\"\"\"\n",
    "pd.isnull(full_data[‘Occupation’]) \n",
    "pd.notnull(full_data['Occupation'])\n",
    "pd.isnull(full_data['Occupation']).values.ravel().sum()\n",
    "pd.nottnull(full_data['Occupation']).values.ravel().sum()\n",
    "full_data.dropna(axis=0,how='all')\n",
    "full_data.dropna(axis=0,how='any')\n",
    "full_ata.fillna(0)\n",
    "full_data.fillna(‘missing’)\n",
    "full_data[‘Occupation’].fillna(0)\n",
    "data['body']\n",
    "data['age']\n",
    "data['age'].fillna(data['age'].mean())\n",
    "data['age'].fillna(method='ffill')\n",
    "data['age'].fillna(method='backfill')\n",
    "\"\"\"\n"
   ]
  },
  {
   "cell_type": "code",
   "execution_count": 14,
   "metadata": {},
   "outputs": [
    {
     "data": {
      "text/plain": [
       "\"\\ndummy_sex = pd.get_dummies(data['Sex'],prefix='Sex')\\ncolumn_name = full_data.columns.values.tolist()\\ncolumn_name.remove('Sex')\\nfull_data[column_name].join(dummy_sex)\\n\""
      ]
     },
     "execution_count": 14,
     "metadata": {},
     "output_type": "execute_result"
    }
   ],
   "source": [
    "\"\"\"\n",
    "dummy_sex = pd.get_dummies(data['Sex'],prefix='Sex')\n",
    "column_name = full_data.columns.values.tolist()\n",
    "column_name.remove('Sex')\n",
    "full_data[column_name].join(dummy_sex)\n",
    "\"\"\""
   ]
  },
  {
   "cell_type": "markdown",
   "metadata": {},
   "source": [
    "###### Identify Missing Values and Create Flag"
   ]
  },
  {
   "cell_type": "code",
   "execution_count": 15,
   "metadata": {},
   "outputs": [],
   "source": [
    "# Combined numerical and Categorical variables for missing value treatment\n",
    "num_cat_cols = num_cols+cat_cols \n",
    "\n",
    "#Loop in a new variable for each missing variable and flag missing value with 1\n",
    "for var in num_cat_cols:\n",
    "    if full_data[var].isnull().any()==True:\n",
    "        full_data[var+'_NA']=full_data[var].isnull()*1 "
   ]
  },
  {
   "cell_type": "markdown",
   "metadata": {},
   "source": [
    "###### Impute Missing values"
   ]
  },
  {
   "cell_type": "code",
   "execution_count": 16,
   "metadata": {},
   "outputs": [
    {
     "name": "stderr",
     "output_type": "stream",
     "text": [
      "/Library/Frameworks/Python.framework/Versions/3.6/lib/python3.6/site-packages/pandas/core/generic.py:6130: SettingWithCopyWarning: \n",
      "A value is trying to be set on a copy of a slice from a DataFrame\n",
      "\n",
      "See the caveats in the documentation: http://pandas.pydata.org/pandas-docs/stable/indexing.html#indexing-view-versus-copy\n",
      "  self._update_inplace(new_data)\n"
     ]
    }
   ],
   "source": [
    "#Impute numerical missing values with mean\n",
    "full_data[num_cols] = full_data[num_cols].fillna(full_data[num_cols].mean(),inplace=True)"
   ]
  },
  {
   "cell_type": "code",
   "execution_count": 17,
   "metadata": {},
   "outputs": [],
   "source": [
    "#Impute categorical missing values with -9999\n",
    "full_data[cat_cols] = full_data[cat_cols].fillna(value = -9999)"
   ]
  },
  {
   "cell_type": "markdown",
   "metadata": {},
   "source": [
    "## - Data Modelling:"
   ]
  },
  {
   "cell_type": "markdown",
   "metadata": {},
   "source": [
    "###### Label encoders for Categorical Variables and Split Training and Testing Data"
   ]
  },
  {
   "cell_type": "code",
   "execution_count": 18,
   "metadata": {},
   "outputs": [],
   "source": [
    "#create label encoders for categorical features\n",
    "for var in cat_cols:\n",
    " number = LabelEncoder()\n",
    " full_data[var] = number.fit_transform(full_data[var].astype('str'))"
   ]
  },
  {
   "cell_type": "code",
   "execution_count": 19,
   "metadata": {},
   "outputs": [],
   "source": [
    "#If target variable is categorical then convert it\n",
    "#full_data[\"N/A\"] = number.fit_transform(full_data[\"N/A\"].astype('str'))"
   ]
  },
  {
   "cell_type": "code",
   "execution_count": 20,
   "metadata": {},
   "outputs": [
    {
     "name": "stderr",
     "output_type": "stream",
     "text": [
      "/Library/Frameworks/Python.framework/Versions/3.6/lib/python3.6/site-packages/pandas/core/ops.py:1649: FutureWarning: elementwise comparison failed; returning scalar instead, but in the future will perform elementwise comparison\n",
      "  result = method(y)\n"
     ]
    }
   ],
   "source": [
    "#Split data\n",
    "train = full_data[full_data['Type']=='Train']\n",
    "test = full_data[full_data['Type']=='Test']"
   ]
  },
  {
   "cell_type": "code",
   "execution_count": 21,
   "metadata": {},
   "outputs": [],
   "source": [
    "train['is_train'] = np.random.uniform(0, 1, len(train)) <= .75\n",
    "Train, Validate = train[train['is_train']==True], train[train['is_train']==False]"
   ]
  },
  {
   "cell_type": "markdown",
   "metadata": {},
   "source": [
    "###### Pass Imputed and Dummy (missing values flags) Variables into Model"
   ]
  },
  {
   "cell_type": "code",
   "execution_count": 22,
   "metadata": {},
   "outputs": [],
   "source": [
    "#Using random forest to predict the class\n",
    "features = list(set(list(full_data.columns))-set(ID_col)-set(target_col))"
   ]
  },
  {
   "cell_type": "code",
   "execution_count": 23,
   "metadata": {},
   "outputs": [],
   "source": [
    "x_train = Train[list(features)].values\n",
    "y_train = Train[\"Hours.Per.Week\"].values\n",
    "x_validate = Validate[list(features)].values\n",
    "y_validate = Validate[\"Hours.Per.Week\"].values\n",
    "x_test=test[list(features)].values"
   ]
  },
  {
   "cell_type": "code",
   "execution_count": 24,
   "metadata": {},
   "outputs": [],
   "source": [
    "random.seed(100)\n",
    "rf = RandomForestClassifier(n_estimators=1000)\n",
    "#rf.fit(x_train, y_train)"
   ]
  },
  {
   "cell_type": "code",
   "execution_count": null,
   "metadata": {},
   "outputs": [],
   "source": []
  },
  {
   "cell_type": "code",
   "execution_count": null,
   "metadata": {},
   "outputs": [],
   "source": []
  },
  {
   "cell_type": "markdown",
   "metadata": {},
   "source": [
    "## - Estimation of Performance:"
   ]
  },
  {
   "cell_type": "code",
   "execution_count": 25,
   "metadata": {},
   "outputs": [
    {
     "data": {
      "text/plain": [
       "'\\nstatus = rf.predict_proba(x_validate)\\nfpr, tpr, _ = roc_curve(y_validate, status[:,1])\\nroc_auc = auc(fpr, tpr)\\nprint(roc_auc)\\n\\nfinal_status = rf.predict_proba(x_test)\\ntest[\"Hours.Per.Week\"]=final_status[:,1]\\ntest.to_csv(\\'model_output.csv\\',columns=[\\'ID\\',\\'Hours.Per.Week\\'])\\n'"
      ]
     },
     "execution_count": 25,
     "metadata": {},
     "output_type": "execute_result"
    }
   ],
   "source": [
    "\"\"\"\n",
    "status = rf.predict_proba(x_validate)\n",
    "fpr, tpr, _ = roc_curve(y_validate, status[:,1])\n",
    "roc_auc = auc(fpr, tpr)\n",
    "print(roc_auc)\n",
    "\n",
    "final_status = rf.predict_proba(x_test)\n",
    "test[\"Hours.Per.Week\"]=final_status[:,1]\n",
    "test.to_csv('model_output.csv',columns=['ID','Hours.Per.Week'])\n",
    "\"\"\""
   ]
  },
  {
   "cell_type": "code",
   "execution_count": null,
   "metadata": {},
   "outputs": [],
   "source": []
  }
 ],
 "metadata": {
  "kernelspec": {
   "display_name": "Python 3",
   "language": "python",
   "name": "python3"
  },
  "language_info": {
   "codemirror_mode": {
    "name": "ipython",
    "version": 3
   },
   "file_extension": ".py",
   "mimetype": "text/x-python",
   "name": "python",
   "nbconvert_exporter": "python",
   "pygments_lexer": "ipython3",
   "version": "3.6.5"
  }
 },
 "nbformat": 4,
 "nbformat_minor": 2
}
